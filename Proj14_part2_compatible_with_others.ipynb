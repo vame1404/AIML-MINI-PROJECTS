{
 "cells": [
  {
   "cell_type": "code",
   "execution_count": 10,
   "metadata": {},
   "outputs": [],
   "source": [
    "import tensorflow as tf\n",
    "from tensorflow.keras.datasets import mnist, cifar10  # Using tensorflow.keras.datasets for compatibility\n",
    "from tensorflow.keras.layers import Conv2D, Flatten, Dense\n",
    "import numpy as np\n",
    "import matplotlib.pyplot as plt\n",
    "from tensorflow.keras.models import Sequential\n",
    "from sklearn.metrics import accuracy_score"
   ]
  },
  {
   "cell_type": "code",
   "execution_count": 11,
   "metadata": {},
   "outputs": [],
   "source": [
    "# Function to load dataset\n",
    "def load_dataset(dataset_name):\n",
    "    if dataset_name == 'mnist':\n",
    "        (Xtrain, ytrain), (Xtest, ytest) = mnist.load_data()\n",
    "    elif dataset_name == 'cifar10':\n",
    "        (Xtrain, ytrain), (Xtest, ytest) = cifar10.load_data()\n",
    "    else:\n",
    "        raise ValueError(f'Dataset \"{dataset_name}\" is not supported.')\n",
    "    \n",
    "    return (Xtrain, ytrain), (Xtest, ytest)"
   ]
  },
  {
   "cell_type": "code",
   "execution_count": 12,
   "metadata": {},
   "outputs": [],
   "source": [
    "# Function to preprocess data\n",
    "def preprocess_data(Xtrain, Xtest, ytrain, ytest, num_classes):\n",
    "    # Normalize pixel values to [0, 1]\n",
    "    Xtrain = Xtrain.astype('float32') / 255.0\n",
    "    Xtest = Xtest.astype('float32') / 255.0\n",
    "    \n",
    "    # Reshape depending on dataset\n",
    "    if len(Xtrain.shape) < 4:  # Add channel dimension for grayscale datasets like MNIST\n",
    "        Xtrain = np.expand_dims(Xtrain, axis=-1)\n",
    "        Xtest = np.expand_dims(Xtest, axis=-1)\n",
    "    \n",
    "    # One-hot encode the labels\n",
    "    ytrainEnc = tf.one_hot(ytrain, depth=num_classes)\n",
    "    ytestEnc = tf.one_hot(ytest, depth=num_classes)\n",
    "    \n",
    "    return Xtrain, Xtest, ytrainEnc, ytestEnc"
   ]
  },
  {
   "cell_type": "code",
   "execution_count": 13,
   "metadata": {},
   "outputs": [],
   "source": [
    "# Function to build the model\n",
    "def build_model(input_shape, num_classes):\n",
    "    model = Sequential()\n",
    "    model.add(Conv2D(64, kernel_size=3, activation='relu', input_shape=input_shape))\n",
    "    model.add(Conv2D(32, kernel_size=3, activation='relu'))\n",
    "    model.add(Flatten())\n",
    "    model.add(Dense(num_classes, activation=\"softmax\"))\n",
    "    return model"
   ]
  },
  {
   "cell_type": "code",
   "execution_count": 14,
   "metadata": {},
   "outputs": [],
   "source": [
    "# Function to visualize predicted and actual labels\n",
    "def visualize_results(X, y_true, y_pred, num_samples=5, class_names=None):\n",
    "    num_rows = 1\n",
    "    num_cols = num_samples\n",
    "    \n",
    "    plt.figure(figsize=(2 * num_cols, 2 * num_rows))\n",
    "    for i in range(num_samples):\n",
    "        plt.subplot(num_rows, num_cols, i + 1)\n",
    "        plt.imshow(X[i], cmap='gray' if X[i].shape[-1] == 1 else None)\n",
    "        plt.title(f'Predicted: {y_pred[i]}, Actual: {y_true[i]}')\n",
    "        plt.axis('off')\n",
    "        \n",
    "        if class_names:\n",
    "            plt.title(f'Predicted: {class_names[y_pred[i]]}, Actual: {class_names[y_true[i]]}')\n",
    "        \n",
    "    plt.tight_layout()\n",
    "    plt.show()\n"
   ]
  },
  {
   "cell_type": "code",
   "execution_count": 15,
   "metadata": {},
   "outputs": [],
   "source": [
    "# Main function to run the script\n",
    "def main(dataset_name='mnist', num_classes=10, num_epochs=3, num_samples=5):\n",
    "    # Load dataset\n",
    "    (Xtrain, ytrain), (Xtest, ytest) = load_dataset(dataset_name)\n",
    "    \n",
    "    # Display sample images\n",
    "    plt.figure(1)\n",
    "    plt.imshow(Xtrain[np.random.randint(len(Xtrain))])\n",
    "    plt.show()\n",
    "\n",
    "    plt.figure(2)\n",
    "    plt.imshow(Xtest[np.random.randint(len(Xtest))])\n",
    "    plt.show()"
   ]
  },
  {
   "cell_type": "code",
   "execution_count": 16,
   "metadata": {},
   "outputs": [
    {
     "ename": "NameError",
     "evalue": "name 'Xtrain' is not defined",
     "output_type": "error",
     "traceback": [
      "\u001b[1;31m---------------------------------------------------------------------------\u001b[0m",
      "\u001b[1;31mNameError\u001b[0m                                 Traceback (most recent call last)",
      "Cell \u001b[1;32mIn[16], line 2\u001b[0m\n\u001b[0;32m      1\u001b[0m \u001b[38;5;66;03m# Preprocess data\u001b[39;00m\n\u001b[1;32m----> 2\u001b[0m Xtrain, Xtest, ytrainEnc, ytestEnc \u001b[38;5;241m=\u001b[39m preprocess_data(\u001b[43mXtrain\u001b[49m, Xtest, ytrain, ytest, num_classes)\n\u001b[0;32m      4\u001b[0m \u001b[38;5;66;03m# Build the model\u001b[39;00m\n\u001b[0;32m      5\u001b[0m input_shape \u001b[38;5;241m=\u001b[39m Xtrain\u001b[38;5;241m.\u001b[39mshape[\u001b[38;5;241m1\u001b[39m:]\n",
      "\u001b[1;31mNameError\u001b[0m: name 'Xtrain' is not defined"
     ]
    }
   ],
   "source": [
    "# Preprocess data\n",
    "Xtrain, Xtest, ytrainEnc, ytestEnc = preprocess_data(Xtrain, Xtest, ytrain, ytest, num_classes)\n",
    "    \n",
    "# Build the model\n",
    "input_shape = Xtrain.shape[1:]\n",
    "model = build_model(input_shape, num_classes)\n",
    "    \n",
    "# Compile the model\n",
    "model.compile(loss=\"categorical_crossentropy\", optimizer=\"adam\", metrics=[\"accuracy\"])\n",
    "    \n",
    "# Train the model\n",
    "model.fit(Xtrain, ytrainEnc, validation_data=(Xtest, ytestEnc), epochs=num_epochs)\n",
    "model.fit(Xtrain, ytrainEnc, validation_data=(Xtest, ytestEnc), epochs=num_epochs)\n",
    "    \n",
    "# Evaluate the model\n",
    "ypred = model.predict(Xtest)\n",
    "ypred_labels = np.argmax(ypred, axis=1)"
   ]
  },
  {
   "cell_type": "code",
   "execution_count": 17,
   "metadata": {},
   "outputs": [
    {
     "ename": "IndentationError",
     "evalue": "unexpected indent (4184780650.py, line 2)",
     "output_type": "error",
     "traceback": [
      "\u001b[1;36m  Cell \u001b[1;32mIn[17], line 2\u001b[1;36m\u001b[0m\n\u001b[1;33m    visualize_results(Xtest, ytest, ypred_labels, num_samples=num_samples)\u001b[0m\n\u001b[1;37m    ^\u001b[0m\n\u001b[1;31mIndentationError\u001b[0m\u001b[1;31m:\u001b[0m unexpected indent\n"
     ]
    }
   ],
   "source": [
    "# Display visualization\n",
    "    visualize_results(Xtest, ytest, ypred_labels, num_samples=num_samples)\n",
    "    \n",
    "    # Calculate accuracy\n",
    "    accuracy = accuracy_score(ypred_labels, ytest)\n",
    "    print('Accuracy score is', 100 * accuracy, '%')\n",
    "\n",
    "# Run the script\n",
    "if __name__ == \"__main__\":\n",
    "    main(dataset_name='mnist', num_classes=nc, num_epochs=3, num_samples=5)\n",
    "    # To run with CIFAR-10 instead, uncomment the line below:\n",
    "    # main(dataset_name='cifar10', num_classes=10, num_epochs=3, num_samples=5)"
   ]
  }
 ],
 "metadata": {
  "kernelspec": {
   "display_name": "Python 3",
   "language": "python",
   "name": "python3"
  },
  "language_info": {
   "codemirror_mode": {
    "name": "ipython",
    "version": 3
   },
   "file_extension": ".py",
   "mimetype": "text/x-python",
   "name": "python",
   "nbconvert_exporter": "python",
   "pygments_lexer": "ipython3",
   "version": "3.8.18"
  }
 },
 "nbformat": 4,
 "nbformat_minor": 2
}

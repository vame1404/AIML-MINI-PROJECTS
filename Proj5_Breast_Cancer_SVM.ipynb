{
 "cells": [
  {
   "cell_type": "code",
   "execution_count": 1,
   "metadata": {},
   "outputs": [],
   "source": [
    "from sklearn import datasets\n",
    "from sklearn.model_selection import train_test_split\n",
    "from sklearn.preprocessing import StandardScaler\n",
    "from sklearn.metrics import accuracy_score\n",
    "from sklearn.svm import SVC"
   ]
  },
  {
   "cell_type": "code",
   "execution_count": 2,
   "metadata": {},
   "outputs": [],
   "source": [
    "bcancer = datasets.load_breast_cancer()\n",
    "X = bcancer.data\n",
    "Y = bcancer.target"
   ]
  },
  {
   "cell_type": "code",
   "execution_count": 3,
   "metadata": {},
   "outputs": [],
   "source": [
    "scaler = StandardScaler();\n",
    "X = scaler.fit_transform(X) \n",
    "Xtrain, Xtest, Ytrain, Ytest \\\n",
    "= train_test_split(X, Y, test_size = 0.25, random_state = 10) "
   ]
  },
  {
   "cell_type": "code",
   "execution_count": 4,
   "metadata": {},
   "outputs": [
    {
     "name": "stdout",
     "output_type": "stream",
     "text": [
      "Accuracy score of Linear SVM Classifier is 94.4055944055944 %\n",
      "\n"
     ]
    }
   ],
   "source": [
    "svmc = SVC(kernel='linear')\n",
    "svmc.fit(Xtrain,Ytrain)\n",
    "Ypred = svmc.predict(Xtest)\n",
    "svmcscore= accuracy_score(Ypred,Ytest)\n",
    "print('Accuracy score of Linear SVM Classifier is',100*svmcscore,'%\\n')"
   ]
  },
  {
   "cell_type": "code",
   "execution_count": 5,
   "metadata": {},
   "outputs": [
    {
     "name": "stdout",
     "output_type": "stream",
     "text": [
      "Accuracy score of Kernel SVM Classifier with RBF is 97.9020979020979 %\n",
      "\n"
     ]
    }
   ],
   "source": [
    "# Kernel SVM RBF - Gaussian Kernal\n",
    "ksvmc = SVC(kernel = 'rbf')\n",
    "ksvmc.fit(Xtrain, Ytrain)\n",
    "Ypred = ksvmc.predict(Xtest)\n",
    "svmcscore = accuracy_score(Ypred,Ytest)\n",
    "print('Accuracy score of Kernel SVM Classifier with RBF is',100*svmcscore,'%\\n')"
   ]
  }
 ],
 "metadata": {
  "kernelspec": {
   "display_name": "Python 3",
   "language": "python",
   "name": "python3"
  },
  "language_info": {
   "codemirror_mode": {
    "name": "ipython",
    "version": 3
   },
   "file_extension": ".py",
   "mimetype": "text/x-python",
   "name": "python",
   "nbconvert_exporter": "python",
   "pygments_lexer": "ipython3",
   "version": "3.8.18"
  }
 },
 "nbformat": 4,
 "nbformat_minor": 2
}

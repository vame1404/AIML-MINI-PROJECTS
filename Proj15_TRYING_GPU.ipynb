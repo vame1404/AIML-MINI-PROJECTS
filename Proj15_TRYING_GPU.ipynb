{
 "cells": [
  {
   "cell_type": "code",
   "execution_count": 1,
   "metadata": {},
   "outputs": [
    {
     "ename": "SyntaxError",
     "evalue": "invalid syntax (1845246347.py, line 14)",
     "output_type": "error",
     "traceback": [
      "\u001b[1;36m  Cell \u001b[1;32mIn[1], line 14\u001b[1;36m\u001b[0m\n\u001b[1;33m    nc = 10 # Number of classes\u001b[0m\n\u001b[1;37m    ^\u001b[0m\n\u001b[1;31mSyntaxError\u001b[0m\u001b[1;31m:\u001b[0m invalid syntax\n"
     ]
    }
   ],
   "source": [
    "import tensorflow as tf\n",
    "from keras.datasets import cifar10\n",
    "import numpy as np\n",
    "import numpy.random as nr\n",
    "import matplotlib.pyplot as plt\n",
    "from keras.models import Sequential\n",
    "from keras.layers import Dense, Conv2D, MaxPooling2D, Flatten\n",
    "from sklearn.metrics import accuracy_score\n",
    "from keras.optimizers import SGD\n",
    "\n",
    "from numba import jit\n",
    "\n",
    "@jit#\n",
    "nc = 10 # Number of classes\n",
    "\n",
    "#CIFAR is an acronym that stands for the Canadian \n",
    "#Institute For Advanced Research and the CIFAR-10 \n",
    "#dataset was developed along with the CIFAR-100 \n",
    "#dataset by researchers at the CIFAR institute.\n",
    "#The dataset is comprised of 50,000 32×32 \n",
    "#pixel color photographs of objects from 10 classes, \n",
    "#such as frogs, birds, cats, ships, etc. \n",
    "#The class labels and their standard associated \n",
    "#integer values are listed below.\n",
    "#0: airplane\n",
    "#1: automobile\n",
    "#2: bird\n",
    "#3: cat\n",
    "#4: deer\n",
    "#5: dog\n",
    "#6: frog\n",
    "#7: horse\n",
    "#8: ship\n",
    "#9: truck\n",
    "\n",
    "(Xtrain, ytrain), (Xtest, ytest) = cifar10.load_data()\n",
    "#Show sample images\n",
    "plt.figure(1)\n",
    "imgplot1 = plt.imshow(Xtrain[nr.randint(50000)])\n",
    "plt.show()\n",
    "\n",
    "plt.figure(2)\n",
    "imgplot2 = plt.imshow(Xtest[nr.randint(10000)])\n",
    "plt.show()\n",
    "\n",
    "Xtrain = Xtrain.astype('float32')\n",
    "Xtrain = Xtrain[0:20000,:] / 255.0\n",
    "Xtest = Xtest.astype('float32')\n",
    "Xtest = Xtest / 255.0\n",
    "ytrainEnc = tf.one_hot(ytrain[0:20000,0], depth=nc) \n",
    "ytestEnc = tf.one_hot(ytest[:,0], depth=nc)\n",
    "\n",
    "model = Sequential()\n",
    "model.add(Conv2D(32, (3, 3), activation='relu', kernel_initializer='he_uniform', padding='same', input_shape=(32, 32, 3)))\n",
    "model.add(Conv2D(32, (3, 3), activation='relu', kernel_initializer='he_uniform', padding='same'))\n",
    "model.add(MaxPooling2D((2, 2)))\n",
    "model.add(Conv2D(64, (3, 3), activation='relu', kernel_initializer='he_uniform', padding='same'))\n",
    "model.add(Conv2D(64, (3, 3), activation='relu', kernel_initializer='he_uniform', padding='same'))\n",
    "model.add(MaxPooling2D((2, 2)))\n",
    "model.add(Conv2D(128, (3, 3), activation='relu', kernel_initializer='he_uniform', padding='same'))\n",
    "model.add(Conv2D(128, (3, 3), activation='relu', kernel_initializer='he_uniform', padding='same'))\n",
    "model.add(MaxPooling2D((2, 2)))\n",
    "model.add(Flatten())\n",
    "model.add(Dense(128,activation='relu',kernel_initializer='he_uniform'))\n",
    "model.add(Dense(10,activation='softmax'))\n",
    "#opt=SGD(lr=0.001,momentum=0.9)\n",
    "opt=SGD(learning_rate=0.001,momentum=0.9)\n",
    "model.compile(optimizer=opt , loss='categorical_crossentropy',metrics=['accuracy'])\n",
    "history=model.fit(Xtrain,ytrainEnc,epochs=10,batch_size=550,validation_data=(Xtest,ytestEnc))\n",
    "\n",
    "ypred = model.predict(Xtest)\n",
    "ypred = np.argmax(ypred,axis=1)\n",
    "score = accuracy_score(ypred,ytest)\n",
    "print('Accuracy score is',100*score,'%')"
   ]
  }
 ],
 "metadata": {
  "kernelspec": {
   "display_name": "Python 3",
   "language": "python",
   "name": "python3"
  },
  "language_info": {
   "codemirror_mode": {
    "name": "ipython",
    "version": 3
   },
   "file_extension": ".py",
   "mimetype": "text/x-python",
   "name": "python",
   "nbconvert_exporter": "python",
   "pygments_lexer": "ipython3",
   "version": "3.8.18"
  }
 },
 "nbformat": 4,
 "nbformat_minor": 2
}

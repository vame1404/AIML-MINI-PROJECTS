{
 "cells": [
  {
   "cell_type": "code",
   "execution_count": 43,
   "metadata": {},
   "outputs": [],
   "source": [
    "import numpy as np\n",
    "from tensorflow.keras.datasets import imdb\n",
    "from tensorflow.keras.models import Sequential\n",
    "from tensorflow.keras.layers import Dense, Embedding, LSTM\n",
    "from tensorflow.keras.preprocessing.sequence import pad_sequences\n",
    "from tensorflow.keras.optimizers import Adam\n",
    "from sklearn.metrics import accuracy_score\n",
    "import re"
   ]
  },
  {
   "cell_type": "code",
   "execution_count": 18,
   "metadata": {},
   "outputs": [],
   "source": [
    "# Load IMDB dataset\n",
    "max_features = 10000\n",
    "maxlen = 200\n",
    "(X_train, y_train), (X_test, y_test) = imdb.load_data(num_words=max_features)\n"
   ]
  },
  {
   "cell_type": "code",
   "execution_count": 19,
   "metadata": {},
   "outputs": [],
   "source": [
    "# Pad sequences\n",
    "X_train = pad_sequences(X_train, maxlen=maxlen)\n",
    "X_test = pad_sequences(X_test, maxlen=maxlen)\n"
   ]
  },
  {
   "cell_type": "code",
   "execution_count": 21,
   "metadata": {},
   "outputs": [],
   "source": [
    "# Build LSTM model\n",
    "embedding_dim = 128\n",
    "model = Sequential()\n",
    "model.add(Embedding(max_features, embedding_dim, input_length=maxlen))\n",
    "model.add(LSTM(128))\n",
    "model.add(Dense(1, activation='sigmoid'))\n",
    "optimizer = Adam(lr=0.001)\n",
    "model.compile(loss='binary_crossentropy', optimizer=optimizer, metrics=['accuracy'])"
   ]
  },
  {
   "cell_type": "code",
   "execution_count": 22,
   "metadata": {},
   "outputs": [
    {
     "name": "stdout",
     "output_type": "stream",
     "text": [
      "157/157 [==============================] - 122s 747ms/step - loss: 0.4420 - accuracy: 0.7884 - val_loss: 0.3210 - val_accuracy: 0.8662\n"
     ]
    },
    {
     "data": {
      "text/plain": [
       "<keras.callbacks.History at 0x20a8f74e070>"
      ]
     },
     "execution_count": 22,
     "metadata": {},
     "output_type": "execute_result"
    }
   ],
   "source": [
    "# Train the model (you can adjust epochs and batch_size as needed)\n",
    "model.fit(X_train, y_train, epochs=1, batch_size=128, validation_split=0.2)"
   ]
  },
  {
   "cell_type": "code",
   "execution_count": 25,
   "metadata": {},
   "outputs": [
    {
     "name": "stdout",
     "output_type": "stream",
     "text": [
      "782/782 [==============================] - 51s 65ms/step\n"
     ]
    }
   ],
   "source": [
    "ypred_prob = model.predict(X_test)\n",
    "ypred = (ypred_prob > 0.5).astype(int)"
   ]
  },
  {
   "cell_type": "code",
   "execution_count": 26,
   "metadata": {},
   "outputs": [
    {
     "name": "stdout",
     "output_type": "stream",
     "text": [
      "Accuracy on test set: 0.86308\n"
     ]
    }
   ],
   "source": [
    "accuracy = accuracy_score(y_test, ypred)\n",
    "print(f'Accuracy on test set: {accuracy}')"
   ]
  },
  {
   "cell_type": "code",
   "execution_count": 27,
   "metadata": {},
   "outputs": [],
   "source": [
    "# Example of predicting a review\n",
    "def predict_review_sentiment(review):\n",
    "    review_sequence = imdb.get_word_index()\n",
    "    word_sequence = review.split()\n",
    "    sequence = [review_sequence[word] if word in review_sequence and review_sequence[word] < max_features else 0 for word in word_sequence]\n",
    "    padded_sequence = pad_sequences([sequence], maxlen=maxlen)\n",
    "    prediction = model.predict_classes(padded_sequence)\n",
    "    return \"Positive\" if prediction[0][0] == 1 else \"Negative\""
   ]
  },
  {
   "cell_type": "code",
   "execution_count": 32,
   "metadata": {},
   "outputs": [],
   "source": [
    "def classify_review(review, model, word_index, maxlen=200):\n",
    "    # Preprocess the review\n",
    "    review = review.lower()\n",
    "    review = re.sub(r\"[^a-zA-Z0-9\\s]\", \"\", review)\n",
    "    words = review.split()\n",
    "    sequences = [word_index[word] if word in word_index and word_index[word] < max_features else 0 for word in words]\n",
    "    padded_sequence = pad_sequences([sequences], maxlen=maxlen)\n",
    "    \n",
    "    # Predict sentiment\n",
    "    prediction = model.predict(padded_sequence)[0][0]\n",
    "    \n",
    "    # Return sentiment label\n",
    "    return \"Positive\" if prediction > 0.5 else \"Negative\""
   ]
  },
  {
   "cell_type": "code",
   "execution_count": 34,
   "metadata": {},
   "outputs": [],
   "source": [
    "def classify_review_interactive():\n",
    "    while True:\n",
    "        review = input(\"Enter a review (type 'exit' to quit): \")\n",
    "        if review.lower() == 'exit':\n",
    "            break\n",
    "        sentiment = classify_review(review, model, word_index)\n",
    "        print(f'Predicted Sentiment: {sentiment}')\n"
   ]
  },
  {
   "cell_type": "code",
   "execution_count": 39,
   "metadata": {},
   "outputs": [],
   "source": [
    "word_index = imdb.get_word_index()"
   ]
  },
  {
   "cell_type": "code",
   "execution_count": 46,
   "metadata": {},
   "outputs": [
    {
     "name": "stdout",
     "output_type": "stream",
     "text": [
      "1/1 [==============================] - 0s 24ms/step\n",
      "Predicted Sentiment: Positive\n",
      "1/1 [==============================] - 0s 28ms/step\n",
      "Predicted Sentiment: Positive\n",
      "1/1 [==============================] - 0s 24ms/step\n",
      "Predicted Sentiment: Positive\n",
      "1/1 [==============================] - 0s 27ms/step\n",
      "Predicted Sentiment: Positive\n",
      "1/1 [==============================] - 0s 27ms/step\n",
      "Predicted Sentiment: Positive\n",
      "1/1 [==============================] - 0s 21ms/step\n",
      "Predicted Sentiment: Positive\n",
      "1/1 [==============================] - 0s 36ms/step\n",
      "Predicted Sentiment: Positive\n",
      "1/1 [==============================] - 0s 24ms/step\n",
      "Predicted Sentiment: Positive\n",
      "1/1 [==============================] - 0s 28ms/step\n",
      "Predicted Sentiment: Positive\n",
      "1/1 [==============================] - 0s 27ms/step\n",
      "Predicted Sentiment: Positive\n",
      "1/1 [==============================] - 0s 27ms/step\n",
      "Predicted Sentiment: Positive\n",
      "1/1 [==============================] - 0s 26ms/step\n",
      "Predicted Sentiment: Positive\n",
      "1/1 [==============================] - 0s 25ms/step\n",
      "Predicted Sentiment: Positive\n",
      "1/1 [==============================] - 0s 27ms/step\n",
      "Predicted Sentiment: Positive\n",
      "1/1 [==============================] - 0s 37ms/step\n",
      "Predicted Sentiment: Positive\n",
      "1/1 [==============================] - 0s 23ms/step\n",
      "Predicted Sentiment: Positive\n",
      "1/1 [==============================] - 0s 31ms/step\n",
      "Predicted Sentiment: Positive\n",
      "1/1 [==============================] - 0s 23ms/step\n",
      "Predicted Sentiment: Positive\n"
     ]
    }
   ],
   "source": [
    "# Interactive classification\n",
    "classify_review_interactive()"
   ]
  },
  {
   "cell_type": "code",
   "execution_count": null,
   "metadata": {},
   "outputs": [],
   "source": [
    "review = \"The movie was bad but the actors were doing great acting\"\n",
    "sentiment = classify_review(model, review, word_index)\n",
    "print(f'Review: {review}')\n",
    "print(f'Sentiment: {sentiment}')"
   ]
  }
 ],
 "metadata": {
  "kernelspec": {
   "display_name": "Python 3",
   "language": "python",
   "name": "python3"
  },
  "language_info": {
   "codemirror_mode": {
    "name": "ipython",
    "version": 3
   },
   "file_extension": ".py",
   "mimetype": "text/x-python",
   "name": "python",
   "nbconvert_exporter": "python",
   "pygments_lexer": "ipython3",
   "version": "3.8.18"
  }
 },
 "nbformat": 4,
 "nbformat_minor": 2
}
